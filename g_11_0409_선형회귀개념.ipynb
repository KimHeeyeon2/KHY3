{
  "nbformat": 4,
  "nbformat_minor": 0,
  "metadata": {
    "kernelspec": {
      "display_name": "Python 3",
      "language": "python",
      "name": "python3"
    },
    "language_info": {
      "codemirror_mode": {
        "name": "ipython",
        "version": 3
      },
      "file_extension": ".py",
      "mimetype": "text/x-python",
      "name": "python",
      "nbconvert_exporter": "python",
      "pygments_lexer": "ipython3",
      "version": "3.6.6"
    },
    "colab": {
      "name": "g_11_0409_선형회귀개념",
      "provenance": [],
      "collapsed_sections": [],
      "include_colab_link": true
    }
  },
  "cells": [
    {
      "cell_type": "markdown",
      "metadata": {
        "id": "view-in-github",
        "colab_type": "text"
      },
      "source": [
        "<a href=\"https://colab.research.google.com/github/KimHeeyeon2/KHY3/blob/master/g_11_0409_%E1%84%89%E1%85%A5%E1%86%AB%E1%84%92%E1%85%A7%E1%86%BC%E1%84%92%E1%85%AC%E1%84%80%E1%85%B1%EA%B0%9C%EB%85%90.ipynb\" target=\"_parent\"><img src=\"https://colab.research.google.com/assets/colab-badge.svg\" alt=\"Open In Colab\"/></a>"
      ]
    },
    {
      "cell_type": "markdown",
      "metadata": {
        "id": "Dji53O40dPED",
        "colab_type": "text"
      },
      "source": [
        "선형회귀\n",
        "==\n",
        "- 선형회귀 함수사용\n",
        "- 경사하강법 동작 이해"
      ]
    },
    {
      "cell_type": "markdown",
      "metadata": {
        "id": "eT71GBzTd_kG",
        "colab_type": "text"
      },
      "source": [
        "## 선형회귀 함수 사용법"
      ]
    },
    {
      "cell_type": "code",
      "metadata": {
        "id": "OhhpOOGhdPEG",
        "colab_type": "code",
        "outputId": "463f9707-5ca1-4c5b-accd-872080b73fc7",
        "colab": {
          "base_uri": "https://localhost:8080/",
          "height": 283
        }
      },
      "source": [
        "import numpy as np\n",
        "import pandas as pd\n",
        "import matplotlib.pyplot as plt\n",
        "%matplotlib inline\n",
        "%config InlineBackend.figure_format = 'retina'\n",
        "\n",
        "n_samples = 200 #샘플개수 200개\n",
        "x = np.random.randn(n_samples) #정규분포갖는 샘플임\n",
        "\n",
        "# 계수 및 절편\n",
        "w = 2 #y=ax+b 에서 a= w \n",
        "b = 3\n",
        "# 노이지 추가\n",
        "y = w*x + b + np.random.randn(n_samples)*1.5   #noise 많이섞기 x2, 줄이기 x0.1\n",
        "plt.scatter(x,y, s=10)"
      ],
      "execution_count": 5,
      "outputs": [
        {
          "output_type": "execute_result",
          "data": {
            "text/plain": [
              "<matplotlib.collections.PathCollection at 0x7fbe2c38acf8>"
            ]
          },
          "metadata": {
            "tags": []
          },
          "execution_count": 5
        },
        {
          "output_type": "display_data",
          "data": {
            "image/png": "[encoded data removed]",
            "text/plain": [
              "<Figure size 432x288 with 1 Axes>"
            ]
          },
          "metadata": {
            "tags": [],
            "image/png": {
              "width": 370,
              "height": 249
            }
          }
        }
      ]
    },
    {
      "cell_type": "code",
      "metadata": {
        "id": "-_G1Qr6TdPEM",
        "colab_type": "code",
        "outputId": "ee1281e1-df8e-4f83-a948-b430baa1f8c1",
        "colab": {
          "base_uri": "https://localhost:8080/",
          "height": 52
        }
      },
      "source": [
        "np.corrcoef(x,y) #correlation 상관관계 약 0.8정도 나왔음"
      ],
      "execution_count": 7,
      "outputs": [
        {
          "output_type": "execute_result",
          "data": {
            "text/plain": [
              "array([[1.        , 0.77966451],\n",
              "       [0.77966451, 1.        ]])"
            ]
          },
          "metadata": {
            "tags": []
          },
          "execution_count": 7
        }
      ]
    },
    {
      "cell_type": "code",
      "metadata": {
        "id": "qWdtzho7sj7Z",
        "colab_type": "code",
        "colab": {
          "base_uri": "https://localhost:8080/",
          "height": 227
        },
        "outputId": "ef80a803-22e5-44b9-c88f-fe7fe292b50a"
      },
      "source": [
        "t = np.arange(12)\n",
        "\n",
        "t.reshape(12,1) #[ 가 2개면 2차원이라는 의미,"
      ],
      "execution_count": 14,
      "outputs": [
        {
          "output_type": "execute_result",
          "data": {
            "text/plain": [
              "array([[ 0],\n",
              "       [ 1],\n",
              "       [ 2],\n",
              "       [ 3],\n",
              "       [ 4],\n",
              "       [ 5],\n",
              "       [ 6],\n",
              "       [ 7],\n",
              "       [ 8],\n",
              "       [ 9],\n",
              "       [10],\n",
              "       [11]])"
            ]
          },
          "metadata": {
            "tags": []
          },
          "execution_count": 14
        }
      ]
    },
    {
      "cell_type": "code",
      "metadata": {
        "id": "jNa4akPSdPEQ",
        "colab_type": "code",
        "outputId": "46ec8901-7a88-460f-bc80-940b6cd06383",
        "colab": {
          "base_uri": "https://localhost:8080/",
          "height": 52
        }
      },
      "source": [
        "from sklearn.linear_model import LinearRegression #linear model 선형회귀\n",
        "model = LinearRegression() #생성자 constructor, 객체를 생성하는것, 모델을 세팅함 \n",
        "model.fit(x.reshape(-1,1), y) #fit 쓰면, 학습, GD최적화기 사용함 , default MSE 사용, -1,1 사용이유는 기본적으로 머신러닝은 2차원구조의 테이블형태여야하는데, x데이터는 1차원임, 그래서 1차원 구조를 2차원구조처럼 보이게 만들어주는것 -1은 알아서 앞을 맞춰주라는 의미임\n",
        "print(model.coef_) #w 모델 파라미터 W, b\n",
        "print(model.intercept_) #b"
      ],
      "execution_count": 16,
      "outputs": [
        {
          "output_type": "stream",
          "text": [
            "[2.05720849]\n",
            "3.0298928421741547\n"
          ],
          "name": "stdout"
        }
      ]
    },
    {
      "cell_type": "code",
      "metadata": {
        "id": "G5FNUV96x_cI",
        "colab_type": "code",
        "colab": {}
      },
      "source": [
        ""
      ],
      "execution_count": 0,
      "outputs": []
    },
    {
      "cell_type": "markdown",
      "metadata": {
        "id": "El90qdWFtVPf",
        "colab_type": "text"
      },
      "source": [
        ""
      ]
    },
    {
      "cell_type": "markdown",
      "metadata": {
        "id": "KcCTA465e70_",
        "colab_type": "text"
      },
      "source": [
        "## 모델을 예측에 사용하기"
      ]
    },
    {
      "cell_type": "code",
      "metadata": {
        "id": "WWkkUZaWeuik",
        "colab_type": "code",
        "outputId": "236659a7-95a4-475a-e959-50ad270da4c8",
        "colab": {
          "base_uri": "https://localhost:8080/",
          "height": 35
        }
      },
      "source": [
        "model.predict([[1],[5],[100]])"
      ],
      "execution_count": 18,
      "outputs": [
        {
          "output_type": "execute_result",
          "data": {
            "text/plain": [
              "array([  5.08710133,  13.31593527, 208.75074142])"
            ]
          },
          "metadata": {
            "tags": []
          },
          "execution_count": 18
        }
      ]
    },
    {
      "cell_type": "markdown",
      "metadata": {
        "id": "rz97pUnieFG1",
        "colab_type": "text"
      },
      "source": [
        "## 경사하강법 구현"
      ]
    },
    {
      "cell_type": "markdown",
      "metadata": {
        "colab_type": "text",
        "id": "hRjW17p9d7tF"
      },
      "source": [
        "변수가 1개인 경우\n",
        "--"
      ]
    },
    {
      "cell_type": "code",
      "metadata": {
        "scrolled": false,
        "colab_type": "code",
        "outputId": "a4f594d5-15a4-43e8-83c6-4acfe0387c0b",
        "id": "o5UNgpdNd7tV",
        "colab": {
          "base_uri": "https://localhost:8080/",
          "height": 192
        }
      },
      "source": [
        "num_epoch = 10 #epoch 주어진 데이터를 몇번 사용할것인지 지정\n",
        "lr = 0.7  #lr = learing rate , 학습률 GD 때 곱해지는 값\n",
        "\n",
        "w = np.random.rand()\n",
        "b = np.random.uniform()\n",
        "\n",
        "for epoch in range(num_epoch):\n",
        "    y_pred = w*x + b \n",
        "    error = np.abs(y_pred - y).mean() #abs - absolute mean 값\n",
        "    print(f\"{epoch:2} w = {w:.6f}, b = {b:.6f} , error = {error:.6f}\")\n",
        "\n",
        "#GD 알고리즘\n",
        "    w = w - lr*((y_pred - y)* x).mean()\n",
        "    b = b - lr*((y_pred - y)).mean()"
      ],
      "execution_count": 19,
      "outputs": [
        {
          "output_type": "stream",
          "text": [
            " 0 w = 0.892018, b = 0.098687 , error = 3.044701\n",
            " 1 w = 1.592098, b = 2.150111 , error = 1.424923\n",
            " 2 w = 1.871654, b = 2.765790 , error = 1.218975\n",
            " 3 w = 1.983214, b = 2.950595 , error = 1.207852\n",
            " 4 w = 2.027710, b = 3.006077 , error = 1.209423\n",
            " 5 w = 2.045452, b = 3.022737 , error = 1.210443\n",
            " 6 w = 2.052524, b = 3.027742 , error = 1.211008\n",
            " 7 w = 2.055342, b = 3.029246 , error = 1.211230\n",
            " 8 w = 2.056465, b = 3.029698 , error = 1.211313\n",
            " 9 w = 2.056912, b = 3.029834 , error = 1.211344\n"
          ],
          "name": "stdout"
        }
      ]
    },
    {
      "cell_type": "markdown",
      "metadata": {
        "id": "eu6hl1RrdPET",
        "colab_type": "text"
      },
      "source": [
        "변수가 2개인 경우\n",
        "--"
      ]
    },
    {
      "cell_type": "code",
      "metadata": {
        "id": "uMvk79oHdPEU",
        "colab_type": "code",
        "outputId": "ee9cd95a-795c-40c5-b37e-6b460464aa43",
        "colab": {
          "base_uri": "https://localhost:8080/",
          "height": 52
        }
      },
      "source": [
        "n_samples = 200\n",
        "x1 = np.random.randn(n_samples)\n",
        "x2 = np.random.randn(n_samples)\n",
        "\n",
        "# multi variate (다중변수)\n",
        "y = 2 * x1 + 3 * x2 + 4 + np.random.randn(n_samples)\n",
        "\n",
        "leg = LinearRegression()\n",
        "X = pd.DataFrame({'x1':x1, 'x2':x2})\n",
        "leg.fit(X, y)\n",
        "\n",
        "print(leg.coef_)\n",
        "print(leg.intercept_)"
      ],
      "execution_count": 20,
      "outputs": [
        {
          "output_type": "stream",
          "text": [
            "[2.05069977 3.12070561]\n",
            "4.002796773706946\n"
          ],
          "name": "stdout"
        }
      ]
    },
    {
      "cell_type": "code",
      "metadata": {
        "id": "s32v7aQudPEY",
        "colab_type": "code",
        "outputId": "4737cc13-878e-4d4f-e00e-7a54b0451275",
        "colab": {
          "base_uri": "https://localhost:8080/",
          "height": 35
        }
      },
      "source": [
        "leg.score(X,y)"
      ],
      "execution_count": 21,
      "outputs": [
        {
          "output_type": "execute_result",
          "data": {
            "text/plain": [
              "0.9437910037754672"
            ]
          },
          "metadata": {
            "tags": []
          },
          "execution_count": 21
        }
      ]
    },
    {
      "cell_type": "markdown",
      "metadata": {
        "id": "ALIlKV_jdPEc",
        "colab_type": "text"
      },
      "source": [
        "경사하강법\n",
        "--"
      ]
    },
    {
      "cell_type": "code",
      "metadata": {
        "scrolled": false,
        "id": "o-aYcmQOdPEd",
        "colab_type": "code",
        "outputId": "5a8cb16a-034c-4329-b05c-cbc7f55a40cf",
        "colab": {
          "base_uri": "https://localhost:8080/",
          "height": 192
        }
      },
      "source": [
        "num_epoch = 10\n",
        "lr =0.7  #learning rate 줄이면 찾는데 시간이 걸림, 너무 크면 값이 왔다갔다함~ 일반적으로 1보다 작게씀\n",
        "\n",
        "w1 = np.random.uniform()\n",
        "w2 = np.random.uniform()\n",
        "b = np.random.uniform()\n",
        "\n",
        "for epoch in range(num_epoch):\n",
        "    y_pred = w1*x1 + w2*x2 + b\n",
        "    error = np.abs(y_pred - y).mean()\n",
        "    print(f\"{epoch:2} w1 = {w1:.6f},  w2 = {w2:.6f}, b = {b:.6f} , error = {error:.6f}\")\n",
        "\n",
        "    w1 = w1 - lr*((y_pred - y)* x1).mean()\n",
        "    w2 = w2 - lr*((y_pred - y)* x2).mean()\n",
        "    b = b - lr*((y_pred - y)).mean()"
      ],
      "execution_count": 27,
      "outputs": [
        {
          "output_type": "stream",
          "text": [
            " 0 w1 = 0.445710,  w2 = 0.681397, b = 0.193617 , error = 4.131257\n",
            " 1 w1 = 1.792864,  w2 = 2.678849, b = 2.795005 , error = 1.352394\n",
            " 2 w1 = 2.018199,  w2 = 3.021644, b = 3.628262 , error = 0.871559\n",
            " 3 w1 = 2.050611,  w2 = 3.094169, b = 3.887381 , error = 0.821259\n",
            " 4 w1 = 2.052870,  w2 = 3.112832, b = 3.967245 , error = 0.816080\n",
            " 5 w1 = 2.051871,  w2 = 3.118263, b = 3.991828 , error = 0.814995\n",
            " 6 w1 = 2.051178,  w2 = 3.119936, b = 3.999406 , error = 0.814684\n",
            " 7 w1 = 2.050875,  w2 = 3.120463, b = 4.001747 , error = 0.814598\n",
            " 8 w1 = 2.050761,  w2 = 3.120629, b = 4.002471 , error = 0.814578\n",
            " 9 w1 = 2.050720,  w2 = 3.120681, b = 4.002696 , error = 0.814572\n"
          ],
          "name": "stdout"
        }
      ]
    },
    {
      "cell_type": "code",
      "metadata": {
        "id": "SzI_9y8bdPEl",
        "colab_type": "code",
        "colab": {}
      },
      "source": [
        ""
      ],
      "execution_count": 0,
      "outputs": []
    },
    {
      "cell_type": "code",
      "metadata": {
        "id": "x-3xzT1sdPEo",
        "colab_type": "code",
        "colab": {}
      },
      "source": [
        ""
      ],
      "execution_count": 0,
      "outputs": []
    }
  ]
}